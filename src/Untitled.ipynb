{
 "cells": [
  {
   "cell_type": "code",
   "execution_count": 18,
   "id": "a724a490",
   "metadata": {},
   "outputs": [],
   "source": [
    "import requests\n",
    "\n",
    "def doge():\n",
    "    api = requests.get(\"https://sochain.com//api/v2/get_price/DOGE\")\n",
    "    j_api = api.json()\n",
    "    name = j_api['data']['network']\n",
    "    btc,usd = dict(),dict()\n",
    "    for coin in j_api['data']['prices']:\n",
    "\n",
    "        if coin['price_base'] == 'BTC' :\n",
    "            btc['price_base'] = coin['price_base']\n",
    "            btc['price'] = coin['price']\n",
    "\n",
    "        if coin['price_base'] == 'USD' :\n",
    "            usd['price_base'] = coin['price_base']\n",
    "            usd['price'] = coin['price']\n",
    "\n",
    "        return f\"The price of {name} is {usd['price']} dollars.\"\n",
    "    \n",
    "    \n",
    "def btc():\n",
    "    api = requests.get(\"https://sochain.com//api/v2/get_price/BTC\")\n",
    "    j_api = api.json()\n",
    "    name = j_api['data']['network']\n",
    "    btc,usd = dict(),dict()\n",
    "    for coin in j_api['data']['prices']:\n",
    "\n",
    "        if coin['price_base'] == 'BTC' :\n",
    "            btc['price_base'] = coin['price_base']\n",
    "            btc['price'] = coin['price']\n",
    "\n",
    "        if coin['price_base'] == 'USD' :\n",
    "            usd['price_base'] = coin['price_base']\n",
    "            usd['price'] = coin['price']\n",
    "\n",
    "        return f\"The price of {name} is {usd['price']} dollars.\"\n",
    "    \n",
    "def eth():\n",
    "    api = requests.get(\"https://sochain.com//api/v2/get_price/ETH\")\n",
    "    j_api = api.json()\n",
    "    name = j_api['data']['network']\n",
    "    btc,usd = dict(),dict()\n",
    "    for coin in j_api['data']['prices']:\n",
    "\n",
    "#         if coin['price_base'] == 'BTC' :\n",
    "#             btc['price_base'] = coin['price_base']\n",
    "#             btc['price'] = coin['price']\n",
    "\n",
    "        if coin['price_base'] == 'USD' :\n",
    "            usd['price_base'] = coin['price_base']\n",
    "            usd['price'] = coin['price']\n",
    "\n",
    "        return f\"The price of {name} is {usd['price']} dollars.\""
   ]
  },
  {
   "cell_type": "code",
   "execution_count": 19,
   "id": "d104674a",
   "metadata": {},
   "outputs": [
    {
     "data": {
      "text/plain": [
       "'The price of DOGE is 0.16897 dollars.'"
      ]
     },
     "execution_count": 19,
     "metadata": {},
     "output_type": "execute_result"
    }
   ],
   "source": [
    "doge()"
   ]
  },
  {
   "cell_type": "code",
   "execution_count": 20,
   "id": "1c2b6653",
   "metadata": {},
   "outputs": [
    {
     "data": {
      "text/plain": [
       "'The price of BTC is 46421.76 dollars.'"
      ]
     },
     "execution_count": 20,
     "metadata": {},
     "output_type": "execute_result"
    }
   ],
   "source": [
    "btc()"
   ]
  }
 ],
 "metadata": {
  "kernelspec": {
   "display_name": "Python 3 (ipykernel)",
   "language": "python",
   "name": "python3"
  },
  "language_info": {
   "codemirror_mode": {
    "name": "ipython",
    "version": 3
   },
   "file_extension": ".py",
   "mimetype": "text/x-python",
   "name": "python",
   "nbconvert_exporter": "python",
   "pygments_lexer": "ipython3",
   "version": "3.9.7"
  }
 },
 "nbformat": 4,
 "nbformat_minor": 5
}
